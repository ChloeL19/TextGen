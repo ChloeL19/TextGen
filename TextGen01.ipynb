{
 "cells": [
  {
   "cell_type": "code",
   "execution_count": 1,
   "metadata": {
    "collapsed": true
   },
   "outputs": [],
   "source": [
    "# going to try to create my own word2vec embedding using gensim --> doing it here to save disk space\n",
    "# this version will use only the common_texts from gensim, but these will be replaced with the 50_essays data\n",
    "# that will require a whole bunch more code and craziness!!\n",
    "# intermediate step actually: train on the text8corpus\n",
    "\n",
    "# get gensim common_text corpus and word2vec model\n",
    "from gensim.test.utils import common_texts, get_tmpfile\n",
    "from gensim.models import Word2Vec"
   ]
  },
  {
   "cell_type": "code",
   "execution_count": 4,
   "metadata": {
    "collapsed": false
   },
   "outputs": [
    {
     "name": "stdout",
     "output_type": "stream",
     "text": [
      "[-0.00289571  0.0009342   0.00041582 -0.0024927   0.00428725  0.00354503\n",
      "  0.00398848 -0.0007667  -0.00468026 -0.00391421 -0.00346487  0.00460532\n",
      "  0.00044253  0.00272431  0.00484313  0.00030303 -0.00109707 -0.00333937\n",
      "  0.00265214  0.00256204  0.00143877  0.00175344  0.00069861  0.00206762\n",
      "  0.0029067   0.0035057   0.00113336 -0.00449572  0.00067195 -0.00464558\n",
      " -0.00098388  0.00059088  0.00047917 -0.00427428  0.00103218  0.00142216\n",
      " -0.00044905  0.00464006 -0.0039659  -0.00210248 -0.00251132  0.00278404\n",
      "  0.00069368  0.00213714  0.00399393 -0.00305474  0.00395008 -0.00017097\n",
      "  0.00179216 -0.00326282 -0.00383721 -0.00110124 -0.00279627 -0.00087105\n",
      "  0.00438039 -0.00230335 -0.00263819 -0.0024311   0.00014968  0.00305328\n",
      " -0.00015738  0.00323465 -0.00264189 -0.00226957 -0.0022674  -0.00403399\n",
      " -0.00076752 -0.00414285 -0.00021768  0.00443654  0.00069616 -0.00276734\n",
      " -0.00379092 -0.00311717  0.00350259 -0.00334338  0.00360392 -0.00118444\n",
      "  0.00040728 -0.00121873 -0.00308603  0.00085064  0.00237821  0.00496072\n",
      "  0.0043199  -0.00448507 -0.00360516  0.00210337 -0.00157305  0.00328062\n",
      " -0.00271448 -0.0020642   0.00203366  0.00418813  0.0002934  -0.0041709\n",
      "  0.00437849  0.00439079  0.00111166  0.00317647]\n",
      "dict_keys(['user', 'interface', 'eps', 'human', 'minors', 'graph', 'computer', 'response', 'survey', 'time', 'system', 'trees'])\n"
     ]
    },
    {
     "name": "stderr",
     "output_type": "stream",
     "text": [
      "/Users/chloeloughridge/anaconda/lib/python3.5/site-packages/ipykernel/__main__.py:8: DeprecationWarning: Call to deprecated `__getitem__` (Method will be removed in 4.0.0, use self.wv.__getitem__() instead).\n"
     ]
    }
   ],
   "source": [
    "# train the word2vec thing on this and create vectors for each word in vocab\n",
    "# inspiration: https://radimrehurek.com/gensim/models/word2vec.html\n",
    "path = get_tmpfile(\"word2vec.model\")\n",
    "\n",
    "model = Word2Vec(common_texts, size=100, window=5, min_count=1, workers=4) # what are workers?\n",
    "model.save(\"word2vec.model\")\n",
    "\n",
    "print(model['computer'])\n",
    "print(model.wv.vocab.keys())"
   ]
  },
  {
   "cell_type": "code",
   "execution_count": null,
   "metadata": {
    "collapsed": true
   },
   "outputs": [],
   "source": [
    "# create the embedding matrix out of these word vectors: http://adventuresinmachinelearning.com/gensim-word2vec-tutorial/\n"
   ]
  },
  {
   "cell_type": "code",
   "execution_count": null,
   "metadata": {
    "collapsed": true
   },
   "outputs": [],
   "source": [
    "# feed the embedding matrix into keras LSTM model\n",
    "\n",
    "# compile the model\n",
    "\n",
    "# train the model (on the common_text thing for now)"
   ]
  },
  {
   "cell_type": "code",
   "execution_count": null,
   "metadata": {
    "collapsed": true
   },
   "outputs": [],
   "source": [
    "# sample the model"
   ]
  }
 ],
 "metadata": {
  "anaconda-cloud": {},
  "kernelspec": {
   "display_name": "Python [default]",
   "language": "python",
   "name": "python3"
  },
  "language_info": {
   "codemirror_mode": {
    "name": "ipython",
    "version": 3
   },
   "file_extension": ".py",
   "mimetype": "text/x-python",
   "name": "python",
   "nbconvert_exporter": "python",
   "pygments_lexer": "ipython3",
   "version": "3.5.2"
  }
 },
 "nbformat": 4,
 "nbformat_minor": 2
}
